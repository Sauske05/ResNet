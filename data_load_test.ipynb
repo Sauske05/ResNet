{
 "cells": [
  {
   "cell_type": "code",
   "execution_count": 1,
   "metadata": {},
   "outputs": [],
   "source": [
    "import pickle"
   ]
  },
  {
   "cell_type": "code",
   "execution_count": 4,
   "metadata": {},
   "outputs": [],
   "source": [
    "def unpickle(file):\n",
    "    import pickle\n",
    "    with open(file, 'rb') as fo:\n",
    "        dict = pickle.load(fo, encoding='bytes')\n",
    "    return dict"
   ]
  },
  {
   "cell_type": "code",
   "execution_count": 7,
   "metadata": {},
   "outputs": [
    {
     "name": "stdout",
     "output_type": "stream",
     "text": [
      "True\n"
     ]
    }
   ],
   "source": [
    "import os\n",
    "print(os.path.isdir('./cifar-10-python')) "
   ]
  },
  {
   "cell_type": "code",
   "execution_count": 10,
   "metadata": {},
   "outputs": [],
   "source": [
    "byte_dict = unpickle('./cifar-10-python/cifar-10-batches-py/data_batch_1')\n",
    "\n",
    "data_dict = {key.decode('utf-8') if isinstance(key, bytes) else key:value for key, value in byte_dict.items()}"
   ]
  },
  {
   "cell_type": "code",
   "execution_count": 13,
   "metadata": {},
   "outputs": [
    {
     "data": {
      "text/plain": [
       "dict_keys(['batch_label', 'labels', 'data', 'filenames'])"
      ]
     },
     "execution_count": 13,
     "metadata": {},
     "output_type": "execute_result"
    }
   ],
   "source": [
    "data_dict.keys()"
   ]
  },
  {
   "cell_type": "code",
   "execution_count": null,
   "metadata": {},
   "outputs": [],
   "source": []
  },
  {
   "cell_type": "code",
   "execution_count": 18,
   "metadata": {},
   "outputs": [],
   "source": [
    "test = data_dict['data'][0]"
   ]
  },
  {
   "cell_type": "code",
   "execution_count": null,
   "metadata": {},
   "outputs": [],
   "source": [
    "import torch\n",
    "test_torch = torch.from_numpy(test)"
   ]
  },
  {
   "cell_type": "code",
   "execution_count": 45,
   "metadata": {},
   "outputs": [],
   "source": [
    "# Reshape to (3, 32, 32) for PyTorch format\n",
    "image = test.reshape(3, 32, 32)\n",
    "\n",
    "# Convert to Torch tensor\n",
    "image_tensor = torch.tensor(image, dtype=torch.float32) / 255.0  # Normalize to [0,1]\n",
    "\n",
    "# Convert to (H, W, C) format for matplotlib\n",
    "image_permuted = image_tensor.permute(1, 2, 0)  # (32, 32, 3)"
   ]
  },
  {
   "cell_type": "code",
   "execution_count": 46,
   "metadata": {},
   "outputs": [
    {
     "data": {
      "text/plain": [
       "torch.Size([32, 32, 3])"
      ]
     },
     "execution_count": 46,
     "metadata": {},
     "output_type": "execute_result"
    }
   ],
   "source": [
    "image_permuted.shape"
   ]
  },
  {
   "cell_type": "code",
   "execution_count": 47,
   "metadata": {},
   "outputs": [],
   "source": [
    "import torch\n",
    "test_torch_reshape = torch.reshape(test_torch, (32,32,3))"
   ]
  },
  {
   "cell_type": "code",
   "execution_count": 48,
   "metadata": {},
   "outputs": [
    {
     "data": {
      "text/plain": [
       "[]"
      ]
     },
     "execution_count": 48,
     "metadata": {},
     "output_type": "execute_result"
    },
    {
     "data": {
      "image/png": "[encoded data removed]",
      "text/plain": [
       "<Figure size 640x480 with 1 Axes>"
      ]
     },
     "metadata": {},
     "output_type": "display_data"
    }
   ],
   "source": [
    "import cv2 as cv\n",
    "import matplotlib.pyplot as plt\n",
    "\n",
    "plt.imshow(image_permuted)\n",
    "plt.plot()"
   ]
  },
  {
   "cell_type": "code",
   "execution_count": null,
   "metadata": {},
   "outputs": [
    {
     "name": "stdout",
     "output_type": "stream",
     "text": [
      "Collecting opencv-python\n",
      "  Using cached opencv_python-4.11.0.86-cp37-abi3-win_amd64.whl.metadata (20 kB)\n",
      "Requirement already satisfied: numpy>=1.21.2 in c:\\arun\\anaconda3\\envs\\condaenv\\lib\\site-packages (from opencv-python) (2.2.3)\n",
      "Using cached opencv_python-4.11.0.86-cp37-abi3-win_amd64.whl (39.5 MB)\n",
      "Installing collected packages: opencv-python\n",
      "Successfully installed opencv-python-4.11.0.86\n"
     ]
    }
   ],
   "source": []
  },
  {
   "cell_type": "code",
   "execution_count": 49,
   "metadata": {},
   "outputs": [
    {
     "data": {
      "image/png": "[encoded data removed]",
      "text/plain": [
       "<Figure size 640x480 with 1 Axes>"
      ]
     },
     "metadata": {},
     "output_type": "display_data"
    }
   ],
   "source": [
    "# Extract one image (First image in batch)\n",
    "image_flat = data_dict['data'][0]  # Shape: (3072,)\n",
    "\n",
    "# Reshape to (3, 32, 32) - PyTorch format (C, H, W)\n",
    "image = image_flat.reshape(3, 32, 32)\n",
    "\n",
    "# Convert to PyTorch tensor and normalize to [0,1]\n",
    "image_tensor = torch.tensor(image, dtype=torch.float32) / 255.0  \n",
    "\n",
    "# Convert from (C, H, W) → (H, W, C) for Matplotlib\n",
    "image_permuted = image_tensor.permute(1, 2, 0).numpy()  \n",
    "\n",
    "# Display the image with `nearest` interpolation for sharpness\n",
    "plt.imshow(image_permuted, interpolation='nearest')  \n",
    "plt.axis(\"off\")\n",
    "plt.title(f\"Label: {data_dict['labels'][0]}\")\n",
    "plt.show()"
   ]
  },
  {
   "cell_type": "code",
   "execution_count": 50,
   "metadata": {},
   "outputs": [],
   "source": [
    "train_files = ['data_batch_1', 'data_batch_2', 'data_batch_3', 'data_batch_4', 'data_batch_5']\n",
    "test_files = ['test_batch']"
   ]
  },
  {
   "cell_type": "code",
   "execution_count": 66,
   "metadata": {},
   "outputs": [],
   "source": [
    "from torch.utils.data import Dataset, DataLoader\n",
    "from typing import List\n",
    "class  CustomDataset(Dataset):\n",
    "    def __init__(self, files: List[str]):\n",
    "        super().__init__()\n",
    "        self.files = files\n",
    "        self.images = []\n",
    "        self.labels = []\n",
    "\n",
    "        for file in self.files:\n",
    "            byte_dict = unpickle(f'./cifar-10-python/cifar-10-batches-py/{file}')\n",
    "            data_dict = {key.decode('utf-8') if isinstance(key, bytes) else key:value for key, value in byte_dict.items()}\n",
    "            images = data_dict['data'].reshape(-1,3,32,32)\n",
    "            #images = torch.tensor(images, dtype = torch.float32)\n",
    "            images = torch.tensor(images, dtype=torch.float32) / 255.0\n",
    "            labels = data_dict['labels']\n",
    "            labels = torch.tensor(labels)\n",
    "\n",
    "\n",
    "            self.images.append(images)\n",
    "            self.labels.append(labels)\n",
    "        \n",
    "        self.images = torch.vstack(self.images)\n",
    "        self.labels = torch.hstack(self.labels)\n",
    "    # def transform(self):\n",
    "    #     for file in self.files:\n",
    "    #         byte_dict = unpickle(f'./cifar-10-python/cifar-10-batches-py/{file}')\n",
    "    #         data_dict = {key.decode('utf-8') if isinstance(key, bytes) else key:value for key, value in byte_dict.items()}\n",
    "    #         for \n",
    "    def __getitem__(self, index):\n",
    "        image = self.images[index]\n",
    "        label = self.labels[index]\n",
    "        return image, label\n",
    "        \n",
    "    def __len__(self):\n",
    "        return len(self.images)"
   ]
  },
  {
   "cell_type": "code",
   "execution_count": 69,
   "metadata": {},
   "outputs": [],
   "source": [
    "train_dataset = CustomDataset(train_files)\n",
    "test_dataset = CustomDataset(test_files)"
   ]
  },
  {
   "cell_type": "code",
   "execution_count": 71,
   "metadata": {},
   "outputs": [],
   "source": [
    "train_dataloader = DataLoader(train_dataset, batch_size=4, shuffle=True)\n",
    "test_dataloader = DataLoader(test_dataset, batch_size=4, shuffle=True)"
   ]
  },
  {
   "cell_type": "code",
   "execution_count": 72,
   "metadata": {},
   "outputs": [
    {
     "data": {
      "text/plain": [
       "[tensor([[[[0.4745, 0.6039, 0.8784,  ..., 0.6667, 0.7176, 0.7725],\n",
       "           [0.8667, 0.8667, 0.8196,  ..., 0.9255, 0.8510, 0.7529],\n",
       "           [0.8588, 0.6745, 0.4745,  ..., 0.7608, 0.7412, 0.6902],\n",
       "           ...,\n",
       "           [0.6627, 0.5725, 0.5569,  ..., 0.5529, 0.5020, 0.5725],\n",
       "           [0.6353, 0.5020, 0.3725,  ..., 0.6353, 0.5725, 0.5020],\n",
       "           [0.6745, 0.6314, 0.5294,  ..., 0.6824, 0.6118, 0.4627]],\n",
       " \n",
       "          [[0.3412, 0.5137, 0.8157,  ..., 0.5412, 0.5843, 0.6392],\n",
       "           [0.7647, 0.7725, 0.7255,  ..., 0.8235, 0.7333, 0.6353],\n",
       "           [0.7686, 0.5647, 0.3490,  ..., 0.6157, 0.5922, 0.5373],\n",
       "           ...,\n",
       "           [0.5098, 0.4235, 0.4196,  ..., 0.3961, 0.3725, 0.4275],\n",
       "           [0.4784, 0.3569, 0.2392,  ..., 0.4745, 0.4353, 0.3490],\n",
       "           [0.5137, 0.4824, 0.4000,  ..., 0.5176, 0.4706, 0.3059]],\n",
       " \n",
       "          [[0.1843, 0.3882, 0.7137,  ..., 0.4039, 0.4431, 0.4980],\n",
       "           [0.6627, 0.6706, 0.6196,  ..., 0.7176, 0.6235, 0.5216],\n",
       "           [0.6980, 0.4667, 0.2235,  ..., 0.4941, 0.4667, 0.4039],\n",
       "           ...,\n",
       "           [0.3294, 0.2667, 0.2392,  ..., 0.2549, 0.2353, 0.2784],\n",
       "           [0.3020, 0.2000, 0.1098,  ..., 0.3294, 0.2980, 0.2000],\n",
       "           [0.3333, 0.3294, 0.2549,  ..., 0.3608, 0.3255, 0.1647]]],\n",
       " \n",
       " \n",
       "         [[[0.4157, 0.4118, 0.4392,  ..., 0.2510, 0.4353, 0.4863],\n",
       "           [0.4588, 0.4627, 0.5294,  ..., 0.2627, 0.3569, 0.4314],\n",
       "           [0.5059, 0.5098, 0.5490,  ..., 0.2314, 0.3373, 0.4431],\n",
       "           ...,\n",
       "           [0.6863, 0.6784, 0.6902,  ..., 0.2941, 0.2353, 0.1922],\n",
       "           [0.6745, 0.6706, 0.6863,  ..., 0.1647, 0.1569, 0.1255],\n",
       "           [0.6706, 0.6745, 0.6902,  ..., 0.1098, 0.1020, 0.0902]],\n",
       " \n",
       "          [[0.5490, 0.5490, 0.5686,  ..., 0.2471, 0.4471, 0.5098],\n",
       "           [0.5725, 0.5725, 0.6039,  ..., 0.2471, 0.3569, 0.4392],\n",
       "           [0.6039, 0.6000, 0.6196,  ..., 0.2353, 0.3412, 0.4510],\n",
       "           ...,\n",
       "           [0.6157, 0.6078, 0.6196,  ..., 0.2392, 0.1804, 0.1451],\n",
       "           [0.6039, 0.5961, 0.6078,  ..., 0.1373, 0.1294, 0.0980],\n",
       "           [0.6000, 0.5961, 0.6078,  ..., 0.0902, 0.0824, 0.0706]],\n",
       " \n",
       "          [[0.6980, 0.6980, 0.7059,  ..., 0.2039, 0.4706, 0.5451],\n",
       "           [0.7098, 0.7137, 0.7137,  ..., 0.2039, 0.3490, 0.4510],\n",
       "           [0.7412, 0.7216, 0.7176,  ..., 0.1765, 0.3176, 0.4824],\n",
       "           ...,\n",
       "           [0.5294, 0.5216, 0.5333,  ..., 0.2196, 0.1804, 0.1373],\n",
       "           [0.5137, 0.5137, 0.5255,  ..., 0.1412, 0.1451, 0.1216],\n",
       "           [0.5098, 0.5098, 0.5255,  ..., 0.1176, 0.1059, 0.0941]]],\n",
       " \n",
       " \n",
       "         [[[0.3686, 0.3686, 0.2824,  ..., 0.1882, 0.1020, 0.1608],\n",
       "           [0.3765, 0.3373, 0.2039,  ..., 0.2078, 0.1098, 0.1529],\n",
       "           [0.3176, 0.3608, 0.2471,  ..., 0.2549, 0.1373, 0.1608],\n",
       "           ...,\n",
       "           [0.2510, 0.2667, 0.2863,  ..., 0.1529, 0.1216, 0.2000],\n",
       "           [0.2275, 0.2588, 0.2431,  ..., 0.0902, 0.0510, 0.0980],\n",
       "           [0.3137, 0.3059, 0.4078,  ..., 0.0863, 0.0549, 0.0980]],\n",
       " \n",
       "          [[0.4039, 0.4039, 0.3020,  ..., 0.2078, 0.1216, 0.1765],\n",
       "           [0.4118, 0.3725, 0.2314,  ..., 0.2275, 0.1255, 0.1608],\n",
       "           [0.3569, 0.3961, 0.2824,  ..., 0.2745, 0.1529, 0.1765],\n",
       "           ...,\n",
       "           [0.2627, 0.2706, 0.2863,  ..., 0.1412, 0.1490, 0.2353],\n",
       "           [0.2392, 0.2627, 0.2431,  ..., 0.0706, 0.0784, 0.1333],\n",
       "           [0.3216, 0.3098, 0.4118,  ..., 0.0667, 0.0706, 0.1255]],\n",
       " \n",
       "          [[0.4784, 0.5059, 0.3255,  ..., 0.2039, 0.0824, 0.0745],\n",
       "           [0.4902, 0.4706, 0.2706,  ..., 0.2275, 0.0902, 0.0588],\n",
       "           [0.4157, 0.4824, 0.3333,  ..., 0.2745, 0.1255, 0.0667],\n",
       "           ...,\n",
       "           [0.1843, 0.1725, 0.1882,  ..., 0.0980, 0.1059, 0.1608],\n",
       "           [0.1608, 0.1608, 0.1451,  ..., 0.0353, 0.0431, 0.0824],\n",
       "           [0.2549, 0.2275, 0.3255,  ..., 0.0471, 0.0510, 0.0824]]],\n",
       " \n",
       " \n",
       "         [[[0.8275, 0.8235, 0.8353,  ..., 0.9059, 0.8941, 0.8902],\n",
       "           [0.8000, 0.7922, 0.8039,  ..., 0.8784, 0.8667, 0.8784],\n",
       "           [0.7843, 0.7765, 0.7765,  ..., 0.8510, 0.8824, 0.9098],\n",
       "           ...,\n",
       "           [0.2863, 0.3020, 0.3137,  ..., 0.3529, 0.3686, 0.3529],\n",
       "           [0.3255, 0.3373, 0.3255,  ..., 0.3804, 0.3922, 0.3647],\n",
       "           [0.3451, 0.3373, 0.3412,  ..., 0.4118, 0.4275, 0.4078]],\n",
       " \n",
       "          [[0.8353, 0.8314, 0.8431,  ..., 0.9333, 0.9255, 0.9137],\n",
       "           [0.8196, 0.8118, 0.8235,  ..., 0.8941, 0.8784, 0.8902],\n",
       "           [0.8039, 0.7961, 0.7961,  ..., 0.8549, 0.8863, 0.9098],\n",
       "           ...,\n",
       "           [0.2745, 0.2824, 0.2863,  ..., 0.3098, 0.3098, 0.2980],\n",
       "           [0.3137, 0.3137, 0.2941,  ..., 0.3255, 0.3333, 0.3059],\n",
       "           [0.3294, 0.3137, 0.3098,  ..., 0.3569, 0.3686, 0.3490]],\n",
       " \n",
       "          [[0.8314, 0.8275, 0.8392,  ..., 0.9294, 0.9098, 0.9059],\n",
       "           [0.8039, 0.7961, 0.8078,  ..., 0.8980, 0.8706, 0.8863],\n",
       "           [0.7922, 0.7843, 0.7843,  ..., 0.8549, 0.8824, 0.9137],\n",
       "           ...,\n",
       "           [0.2078, 0.2157, 0.2235,  ..., 0.1725, 0.1804, 0.1686],\n",
       "           [0.2353, 0.2392, 0.2196,  ..., 0.1922, 0.2039, 0.1804],\n",
       "           [0.2392, 0.2275, 0.2235,  ..., 0.2235, 0.2392, 0.2235]]]]),\n",
       " tensor([4, 8, 2, 9])]"
      ]
     },
     "execution_count": 72,
     "metadata": {},
     "output_type": "execute_result"
    }
   ],
   "source": [
    "next(iter(train_dataloader))"
   ]
  },
  {
   "cell_type": "code",
   "execution_count": 70,
   "metadata": {},
   "outputs": [
    {
     "data": {
      "image/png": "[encoded data removed]",
      "text/plain": [
       "<Figure size 640x480 with 1 Axes>"
      ]
     },
     "metadata": {},
     "output_type": "display_data"
    }
   ],
   "source": [
    "sample_test = train_dataset[1][0]\n",
    "# Convert from (C, H, W) → (H, W, C) for Matplotlib\n",
    "image_permuted = sample_test.permute(1, 2, 0).numpy()  \n",
    "\n",
    "# Display the image with `nearest` interpolation for sharpness\n",
    "plt.imshow(image_permuted, interpolation='nearest')  \n",
    "plt.axis(\"off\")\n",
    "#plt.title(f\"Label: {data_dict['labels'][0]}\")\n",
    "plt.show()"
   ]
  },
  {
   "cell_type": "code",
   "execution_count": null,
   "metadata": {},
   "outputs": [],
   "source": []
  },
  {
   "cell_type": "code",
   "execution_count": null,
   "metadata": {},
   "outputs": [],
   "source": []
  }
 ],
 "metadata": {
  "kernelspec": {
   "display_name": "condaEnv",
   "language": "python",
   "name": "python3"
  },
  "language_info": {
   "codemirror_mode": {
    "name": "ipython",
    "version": 3
   },
   "file_extension": ".py",
   "mimetype": "text/x-python",
   "name": "python",
   "nbconvert_exporter": "python",
   "pygments_lexer": "ipython3",
   "version": "3.12.3"
  }
 },
 "nbformat": 4,
 "nbformat_minor": 2
}
